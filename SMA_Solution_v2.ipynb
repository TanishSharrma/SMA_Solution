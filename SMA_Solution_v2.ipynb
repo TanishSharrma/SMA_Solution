{
  "metadata": {
    "language_info": {
      "codemirror_mode": {
        "name": "python",
        "version": 3
      },
      "file_extension": ".py",
      "mimetype": "text/x-python",
      "name": "python",
      "nbconvert_exporter": "python",
      "pygments_lexer": "ipython3",
      "version": "3.8"
    },
    "kernelspec": {
      "name": "python",
      "display_name": "Python (Pyodide)",
      "language": "python"
    }
  },
  "nbformat_minor": 4,
  "nbformat": 4,
  "cells": [
    {
      "cell_type": "code",
      "source": "import datetime\nimport dateutil.parser\n\n# Calculation Function\ndef calculate_fare(rides_array_unsorted, const_fares):\n    # Sort Rides by Dates (using Binary Tree)\n    class Node:\n       def __init__(self, data):\n          self.left = None\n          self.right = None\n          self.data = data\n       def insert(self, data):\n          if self.data:\n             if data[2] < self.data[2]:\n                if self.left is None:\n                   self.left = Node(data)\n                else:\n                   self.left.insert(data)\n             else:\n                if self.right is None:\n                   self.right = Node(data)\n                else:\n                   self.right.insert(data)\n          else:\n             self.data = data\n       def inorderTraversal(self, root):\n          res = []\n          if root:\n             res = self.inorderTraversal(root.left)\n             res.append(root.data)\n             res = res + self.inorderTraversal(root.right)\n          return res\n\n    root_node_set = False\n    for i in range(0, len(rides_array_unsorted)):\n        if len(rides_array_unsorted[i])<2: # Blank Row\n            continue\n        if root_node_set == False:\n            root = Node(rides_array_unsorted[i].split(\",\"))\n            root_node_set = True\n        else:\n            root.insert(rides_array_unsorted[i].split(\",\"))\n    rides_array = root.inorderTraversal(root)\n\n    # Set variables to track daily and weekly cap\n    def routes_zero_map():\n        init_routes_zero_map = {}\n        for x in const_fares:\n            init_routes_zero_map[x] = 0\n        return init_routes_zero_map\n\n    daily_fare_cap_cache = [dateutil.parser.parse(rides_array[0][2]), routes_zero_map()]\n    weekly_fare_cap_cache = [dateutil.parser.parse(rides_array[0][2]), routes_zero_map()]\n\n    # Main Logic (Calculate Fare)\n    result_fare = 0\n    for ride in rides_array:\n\n        # Setting Standard vars\n        this_date = dateutil.parser.parse(ride[2])\n        this_time = [this_date.hour, this_date.minute, this_date.second]\n        this_day = this_date.weekday()\n        ride[0] = ride[0].strip()\n        ride[1] = ride[1].strip()\n\n        # Peak Hours\n        is_peak = False\n        if this_day < 5:    # Weekdays\n            if this_time[0] in [8, 9, 17, 18]:\n                is_peak = True\n            elif this_time[0] == 16 and this_time[1]>29:\n                is_peak = True\n        elif this_day == 5:  # Saturday\n            if 9 < this_time[0] < 14 or 17 < this_time[0] < 23:\n                is_peak = True\n        elif this_day == 6:  # Sunday\n            if 17 < this_time[0] < 23:\n                is_peak = True\n\n        # Fare of the current ride\n        this_fare = const_fares[ride[0]+ride[1]]['peak'] if is_peak else const_fares[ride[0]+ride[1]]['non_peak']\n\n        # Daily Fare Cap\n        day_cap_fare = 99   # Set at a random high number since the lowest fare is needed later (calculated ahead)\n        if this_date == daily_fare_cap_cache[0]:\n            existing_fare = daily_fare_cap_cache[1][ride[0]+ride[1]]\n            init_day_cap = const_fares[ride[0]+ride[1]]['daily_cap']\n            if existing_fare+this_fare > init_day_cap:\n                day_cap_fare = 0 if existing_fare == init_day_cap else init_day_cap-existing_fare\n        else:\n            daily_fare_cap_cache = [dateutil.parser.parse(ride[2]), routes_zero_map()]\n\n        # Weekly Fare Cap\n        week_cap_fare = 99  # Set at a random high number since the lowest fare is needed later (calculated ahead)\n        is_same_week = False\n        day_diff = this_date - weekly_fare_cap_cache[0]\n        if day_diff.days < 7:\n            if this_date.weekday() >= weekly_fare_cap_cache[0].weekday():\n                is_same_week = True\n        if is_same_week:\n            existing_fare = weekly_fare_cap_cache[1][ride[0]+ride[1]]\n            init_week_cap = const_fares[ride[0]+ride[1]]['weekly_cap']\n            if existing_fare+this_fare > init_week_cap:\n                week_cap_fare = 0 if existing_fare == init_week_cap else init_week_cap-existing_fare\n        else:\n            weekly_fare_cap_cache = [dateutil.parser.parse(ride[2]), routes_zero_map()]\n\n        # Lowest Fare (select the lowest fare out of regular fare, day cap fare or week cap fare)\n        final_fare_1 = this_fare if this_fare < day_cap_fare else day_cap_fare\n        final_fare = final_fare_1 if final_fare_1 < week_cap_fare else week_cap_fare\n\n        # Update Fare to cache and final count\n        result_fare += final_fare\n        daily_fare_cap_cache[1][ride[0] + ride[1]] += final_fare\n        weekly_fare_cap_cache[1][ride[0] + ride[1]] += final_fare\n\n    # Return Result\n    return result_fare",
      "metadata": {
        "trusted": true
      },
      "execution_count": 2,
      "outputs": []
    },
    {
      "cell_type": "code",
      "source": "# Input Data within this string\ndata = \"\"\"\nGreen, Green, 2021-03-24T07:58:30 \nGreen, Red, 2021-03-24T09:58:30 \nRed, Red, 2021-03-25T11:58:30\n\"\"\"",
      "metadata": {
        "trusted": true
      },
      "execution_count": 3,
      "outputs": []
    },
    {
      "cell_type": "code",
      "source": "# Input Data (for testing it locally with a CSV file)\n# path = input(\"Enter the complete path to the input CSV file : \")\n# file = open(path)\n# data = file.read()\nrides_array_unsorted = data.split(\"\\n\")\n\nresult = calculate_fare(rides_array_unsorted, {\n    \"GreenGreen\": {\n        \"non_peak\": 1,\n        \"peak\": 2,\n        \"daily_cap\": 8,\n        \"weekly_cap\": 55\n    },\n    \"RedRed\": {\n        \"non_peak\": 2,\n        \"peak\": 3,\n        \"daily_cap\": 12,\n        \"weekly_cap\": 70\n    },\n    \"GreenRed\": {\n        \"non_peak\": 3,\n        \"peak\": 4,\n        \"daily_cap\": 15,\n        \"weekly_cap\": 90\n    },\n    \"RedGreen\": {\n        \"non_peak\": 2,\n        \"peak\": 3,\n        \"daily_cap\": 15,\n        \"weekly_cap\": 90\n    }\n})\n\nprint(\"$\" + str(result))",
      "metadata": {
        "trusted": true
      },
      "execution_count": 4,
      "outputs": [
        {
          "name": "stdout",
          "text": "$7\n",
          "output_type": "stream"
        }
      ]
    }
  ]
}